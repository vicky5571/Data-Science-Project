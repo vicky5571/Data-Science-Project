{
 "cells": [
  {
   "cell_type": "code",
   "execution_count": 1,
   "id": "3e4b224c",
   "metadata": {},
   "outputs": [],
   "source": [
    "import pandas as pd"
   ]
  },
  {
   "cell_type": "code",
   "execution_count": 3,
   "id": "d9cf9842",
   "metadata": {},
   "outputs": [],
   "source": [
    "products = pd.read_csv('products.csv')"
   ]
  },
  {
   "cell_type": "code",
   "execution_count": 18,
   "id": "f833291d",
   "metadata": {},
   "outputs": [
    {
     "data": {
      "text/plain": [
       "product_code    0\n",
       "product_type    0\n",
       "dtype: int64"
      ]
     },
     "execution_count": 18,
     "metadata": {},
     "output_type": "execute_result"
    }
   ],
   "source": [
    "products.isna().sum()"
   ]
  },
  {
   "cell_type": "code",
   "execution_count": 11,
   "id": "f81f1565",
   "metadata": {},
   "outputs": [
    {
     "data": {
      "text/plain": [
       "array(['Prod001', 'Prod002', 'Prod003', 'Prod004', 'Prod005', 'Prod006',\n",
       "       'Prod007', 'Prod008', 'Prod009', 'Prod010', 'Prod011', 'Prod012',\n",
       "       'Prod013', 'Prod014', 'Prod015', 'Prod016', 'Prod017', 'Prod018',\n",
       "       'Prod019', 'Prod020', 'Prod021', 'Prod022', 'Prod023', 'Prod024',\n",
       "       'Prod025', 'Prod026', 'Prod027', 'Prod028', 'Prod029', 'Prod030',\n",
       "       'Prod031', 'Prod032', 'Prod033', 'Prod034', 'Prod035', 'Prod036',\n",
       "       'Prod037', 'Prod038', 'Prod039', 'Prod040', 'Prod041', 'Prod042',\n",
       "       'Prod043', 'Prod044', 'Prod045', 'Prod046', 'Prod047', 'Prod048',\n",
       "       'Prod049', 'Prod050', 'Prod051', 'Prod052', 'Prod053', 'Prod054',\n",
       "       'Prod055', 'Prod056', 'Prod057', 'Prod058', 'Prod059', 'Prod060',\n",
       "       'Prod061', 'Prod062', 'Prod063', 'Prod064', 'Prod065', 'Prod066',\n",
       "       'Prod067', 'Prod068', 'Prod069', 'Prod070', 'Prod071', 'Prod072',\n",
       "       'Prod073', 'Prod074', 'Prod075', 'Prod076', 'Prod077', 'Prod078',\n",
       "       'Prod079', 'Prod080', 'Prod081', 'Prod082', 'Prod083', 'Prod084',\n",
       "       'Prod085', 'Prod086', 'Prod087', 'Prod088', 'Prod089', 'Prod090',\n",
       "       'Prod091', 'Prod092', 'Prod093', 'Prod094', 'Prod095', 'Prod096',\n",
       "       'Prod097', 'Prod098', 'Prod099', 'Prod100', 'Prod101', 'Prod102',\n",
       "       'Prod103', 'Prod104', 'Prod105', 'Prod106', 'Prod107', 'Prod108',\n",
       "       'Prod109', 'Prod110', 'Prod111', 'Prod112', 'Prod113', 'Prod114',\n",
       "       'Prod115', 'Prod116', 'Prod117', 'Prod118', 'Prod119', 'Prod120',\n",
       "       'Prod121', 'Prod122', 'Prod123', 'Prod124', 'Prod125', 'Prod126',\n",
       "       'Prod127', 'Prod128', 'Prod129', 'Prod130', 'Prod131', 'Prod132',\n",
       "       'Prod133', 'Prod134', 'Prod135', 'Prod136', 'Prod137', 'Prod138',\n",
       "       'Prod139', 'Prod140', 'Prod141', 'Prod142', 'Prod143', 'Prod144',\n",
       "       'Prod145', 'Prod146', 'Prod147', 'Prod148', 'Prod149', 'Prod150',\n",
       "       'Prod151', 'Prod152', 'Prod153', 'Prod154', 'Prod155', 'Prod156',\n",
       "       'Prod157', 'Prod158', 'Prod159', 'Prod160', 'Prod161', 'Prod162',\n",
       "       'Prod163', 'Prod164', 'Prod165', 'Prod166', 'Prod167', 'Prod168',\n",
       "       'Prod169', 'Prod170', 'Prod171', 'Prod172', 'Prod173', 'Prod174',\n",
       "       'Prod175', 'Prod176', 'Prod177', 'Prod178', 'Prod179', 'Prod180',\n",
       "       'Prod181', 'Prod182', 'Prod183', 'Prod184', 'Prod185', 'Prod186',\n",
       "       'Prod187', 'Prod188', 'Prod189', 'Prod190', 'Prod191', 'Prod192',\n",
       "       'Prod193', 'Prod194', 'Prod195', 'Prod196', 'Prod197', 'Prod198',\n",
       "       'Prod199', 'Prod200', 'Prod201', 'Prod202', 'Prod203', 'Prod204',\n",
       "       'Prod205', 'Prod206', 'Prod207', 'Prod208', 'Prod209', 'Prod210',\n",
       "       'Prod211', 'Prod212', 'Prod213', 'Prod214', 'Prod215', 'Prod216',\n",
       "       'Prod217', 'Prod218', 'Prod219', 'Prod220', 'Prod221', 'Prod222',\n",
       "       'Prod223', 'Prod224', 'Prod225', 'Prod226', 'Prod227', 'Prod228',\n",
       "       'Prod229', 'Prod230', 'Prod231', 'Prod232', 'Prod233', 'Prod234',\n",
       "       'Prod235', 'Prod236', 'Prod237', 'Prod238', 'Prod239', 'Prod240',\n",
       "       'Prod241', 'Prod242', 'Prod243', 'Prod244', 'Prod245', 'Prod246',\n",
       "       'Prod247', 'Prod248', 'Prod249', 'Prod250', 'Prod251', 'Prod252',\n",
       "       'Prod253', 'Prod254', 'Prod255', 'Prod256', 'Prod257', 'Prod258',\n",
       "       'Prod259', 'Prod260', 'Prod261', 'Prod262', 'Prod263', 'Prod264',\n",
       "       'Prod265', 'Prod266', 'Prod267', 'Prod268', 'Prod269', 'Prod270',\n",
       "       'Prod271', 'Prod272', 'Prod273', 'Prod274', 'Prod275', 'Prod276',\n",
       "       'Prod277', 'Prod278', 'Prod279'], dtype=object)"
      ]
     },
     "execution_count": 11,
     "metadata": {},
     "output_type": "execute_result"
    }
   ],
   "source": [
    "products.product_code.unique()"
   ]
  },
  {
   "cell_type": "code",
   "execution_count": 16,
   "id": "4dc13f6c",
   "metadata": {
    "scrolled": true
   },
   "outputs": [
    {
     "data": {
      "text/html": [
       "<div>\n",
       "<style scoped>\n",
       "    .dataframe tbody tr th:only-of-type {\n",
       "        vertical-align: middle;\n",
       "    }\n",
       "\n",
       "    .dataframe tbody tr th {\n",
       "        vertical-align: top;\n",
       "    }\n",
       "\n",
       "    .dataframe thead th {\n",
       "        text-align: right;\n",
       "    }\n",
       "</style>\n",
       "<table border=\"1\" class=\"dataframe\">\n",
       "  <thead>\n",
       "    <tr style=\"text-align: right;\">\n",
       "      <th></th>\n",
       "      <th>product_code</th>\n",
       "      <th>product_type</th>\n",
       "    </tr>\n",
       "  </thead>\n",
       "  <tbody>\n",
       "  </tbody>\n",
       "</table>\n",
       "</div>"
      ],
      "text/plain": [
       "Empty DataFrame\n",
       "Columns: [product_code, product_type]\n",
       "Index: []"
      ]
     },
     "execution_count": 16,
     "metadata": {},
     "output_type": "execute_result"
    }
   ],
   "source": [
    "products[products['product_code']==\"\"]"
   ]
  },
  {
   "cell_type": "code",
   "execution_count": 16,
   "id": "cb7014b9",
   "metadata": {
    "scrolled": true
   },
   "outputs": [
    {
     "data": {
      "text/html": [
       "<div>\n",
       "<style scoped>\n",
       "    .dataframe tbody tr th:only-of-type {\n",
       "        vertical-align: middle;\n",
       "    }\n",
       "\n",
       "    .dataframe tbody tr th {\n",
       "        vertical-align: top;\n",
       "    }\n",
       "\n",
       "    .dataframe thead th {\n",
       "        text-align: right;\n",
       "    }\n",
       "</style>\n",
       "<table border=\"1\" class=\"dataframe\">\n",
       "  <thead>\n",
       "    <tr style=\"text-align: right;\">\n",
       "      <th></th>\n",
       "      <th>product_code</th>\n",
       "      <th>product_type</th>\n",
       "    </tr>\n",
       "  </thead>\n",
       "  <tbody>\n",
       "  </tbody>\n",
       "</table>\n",
       "</div>"
      ],
      "text/plain": [
       "Empty DataFrame\n",
       "Columns: [product_code, product_type]\n",
       "Index: []"
      ]
     },
     "execution_count": 16,
     "metadata": {},
     "output_type": "execute_result"
    }
   ],
   "source": [
    "products[products['product_code']==\"Blank\"]"
   ]
  },
  {
   "cell_type": "code",
   "execution_count": 17,
   "id": "52391216",
   "metadata": {
    "scrolled": true
   },
   "outputs": [
    {
     "data": {
      "text/html": [
       "<div>\n",
       "<style scoped>\n",
       "    .dataframe tbody tr th:only-of-type {\n",
       "        vertical-align: middle;\n",
       "    }\n",
       "\n",
       "    .dataframe tbody tr th {\n",
       "        vertical-align: top;\n",
       "    }\n",
       "\n",
       "    .dataframe thead th {\n",
       "        text-align: right;\n",
       "    }\n",
       "</style>\n",
       "<table border=\"1\" class=\"dataframe\">\n",
       "  <thead>\n",
       "    <tr style=\"text-align: right;\">\n",
       "      <th></th>\n",
       "      <th>product_code</th>\n",
       "      <th>product_type</th>\n",
       "    </tr>\n",
       "  </thead>\n",
       "  <tbody>\n",
       "  </tbody>\n",
       "</table>\n",
       "</div>"
      ],
      "text/plain": [
       "Empty DataFrame\n",
       "Columns: [product_code, product_type]\n",
       "Index: []"
      ]
     },
     "execution_count": 17,
     "metadata": {},
     "output_type": "execute_result"
    }
   ],
   "source": [
    "products[products['product_code']==\"(Blank)\"]"
   ]
  }
 ],
 "metadata": {
  "kernelspec": {
   "display_name": "Python 3 (ipykernel)",
   "language": "python",
   "name": "python3"
  },
  "language_info": {
   "codemirror_mode": {
    "name": "ipython",
    "version": 3
   },
   "file_extension": ".py",
   "mimetype": "text/x-python",
   "name": "python",
   "nbconvert_exporter": "python",
   "pygments_lexer": "ipython3",
   "version": "3.11.4"
  }
 },
 "nbformat": 4,
 "nbformat_minor": 5
}
